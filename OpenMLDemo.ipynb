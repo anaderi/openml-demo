{
 "cells": [
  {
   "cell_type": "markdown",
   "metadata": {},
   "source": [
    "## Small demo of the OpenML API.\n",
    "\n",
    "It covers downloading datasets, tasks, how to use scikit-learn to build classifiers, and upload the results to the server.\n"
   ]
  },
  {
   "cell_type": "markdown",
   "metadata": {},
   "source": [
    "Initialization and login. This assumes you have a .openml dir in your homedir with a subdir for caches and a file with your API key. You find your API key in your account settings on openml.org."
   ]
  },
  {
   "cell_type": "code",
   "execution_count": null,
   "metadata": {
    "collapsed": true
   },
   "outputs": [],
   "source": [
    "from sklearn import preprocessing, ensemble\n",
    "from openml.apiconnector import APIConnector\n",
    "from openml.autorun import openml_run\n",
    "import numpy as np\n",
    "import pandas as pd\n",
    "import os\n",
    "\n",
    "home_dir = os.path.expanduser(\"~\")\n",
    "openml_dir = os.path.join(home_dir, \".openml\")\n",
    "if not os.path.exists(openml_dir): os.makedirs(openml_dir)\n",
    "cache_dir = os.path.join(openml_dir, \"cache\")\n",
    "key =  ## Put your key as a string here"
   ]
  },
  {
   "cell_type": "code",
   "execution_count": null,
   "metadata": {
    "cellView": null,
    "collapsed": false,
    "executionInfo": {
     "content": {
      "execution_count": 1,
      "payload": [],
      "status": "ok",
      "user_expressions": {},
      "user_variables": {}
     },
     "timestamp": 1455756578370,
     "user": {
      "color": "#1FA15D",
      "displayName": "Joaquin Vanschoren",
      "isAnonymous": false,
      "isMe": true,
      "permissionId": "09574386662628411592",
      "photoUrl": "//lh6.googleusercontent.com/-9g2BD5NUkx4/AAAAAAAAAAI/AAAAAAAACC4/sACE-8zBzX4/s50-c-k-no/photo.jpg",
      "sessionId": "705fdb90ea984ffb",
      "userId": "109221074076178034989"
     },
     "user_tz": -60
    }
   },
   "outputs": [],
   "source": [
    "openml = APIConnector(cache_directory=cache_dir, apikey=key)"
   ]
  },
  {
   "cell_type": "markdown",
   "metadata": {},
   "source": [
    "List all datasets on OpenML"
   ]
  },
  {
   "cell_type": "code",
   "execution_count": null,
   "metadata": {
    "cellView": null,
    "collapsed": false,
    "executionInfo": {
     "content": {
      "execution_count": 43,
      "payload": [],
      "status": "ok",
      "user_expressions": {},
      "user_variables": {}
     },
     "timestamp": 1455749142183,
     "user": {
      "color": "#1FA15D",
      "displayName": "Joaquin Vanschoren",
      "isAnonymous": false,
      "isMe": true,
      "permissionId": "09574386662628411592",
      "photoUrl": "//lh6.googleusercontent.com/-9g2BD5NUkx4/AAAAAAAAAAI/AAAAAAAACC4/sACE-8zBzX4/s50-c-k-no/photo.jpg",
      "sessionId": "4c10e6f89dcd9d83",
      "userId": "109221074076178034989"
     },
     "user_tz": -60
    }
   },
   "outputs": [],
   "source": [
    "datasets = openml.get_dataset_list()\n",
    "\n",
    "data = pd.DataFrame(datasets)\n",
    "print(\"Found %s datasets on OpenML. Here are the first 10:\" % len(datasets))\n",
    "print(data[:10][['did','NumberOfInstances','NumberOfFeatures','NumberOfClasses']])\n",
    "\n",
    "cl_data = data.loc[data['NumberOfClasses'] >= 2]\n",
    "print(\"Selected %s classification datasets. Here are the first 10:\" % len(cl_data))\n",
    "print(cl_data[:10][['did','NumberOfInstances','NumberOfFeatures','NumberOfClasses']])"
   ]
  },
  {
   "cell_type": "markdown",
   "metadata": {},
   "source": [
    "Download a specific dataset. This is done based on the dataset ID (called 'did' in the table above)."
   ]
  },
  {
   "cell_type": "code",
   "execution_count": null,
   "metadata": {
    "cellView": null,
    "collapsed": false,
    "executionInfo": {
     "content": {
      "execution_count": 83,
      "payload": [],
      "status": "ok",
      "user_expressions": {},
      "user_variables": {}
     },
     "timestamp": 1455753527460,
     "user": {
      "color": "#1FA15D",
      "displayName": "Joaquin Vanschoren",
      "isAnonymous": false,
      "isMe": true,
      "permissionId": "09574386662628411592",
      "photoUrl": "//lh6.googleusercontent.com/-9g2BD5NUkx4/AAAAAAAAAAI/AAAAAAAACC4/sACE-8zBzX4/s50-c-k-no/photo.jpg",
      "sessionId": "4868f0f035c55454",
      "userId": "109221074076178034989"
     },
     "user_tz": -60
    }
   },
   "outputs": [],
   "source": [
    "from pprint import pprint\n",
    "import arff\n",
    "\n",
    "print(\"Downloading dataset 61.\")\n",
    "dataset = openml.download_dataset(61)\n",
    "\n",
    "print(\"This is dataset '%s', the target feature is called '%s'\" % (dataset.name, dataset.default_target_attribute))\n",
    "print(\"More info, including the location off the .arff file on disk:\")\n",
    "pprint(vars(dataset))\n",
    "\n",
    "print(\"Peeking at the actual data (class labels are replaced by indices):\")\n",
    "X, y, attribute_names = dataset.get_dataset(target=dataset.default_target_attribute, return_attribute_names=True)\n",
    "iris = pd.DataFrame(X, columns=attribute_names)\n",
    "iris['class'] = y\n",
    "print(iris[:10])"
   ]
  },
  {
   "cell_type": "markdown",
   "metadata": {},
   "source": [
    "Training a scikit-learn model with the data"
   ]
  },
  {
   "cell_type": "code",
   "execution_count": null,
   "metadata": {
    "cellView": null,
    "collapsed": false,
    "executionInfo": {
     "content": {
      "execution_count": 78,
      "payload": [],
      "status": "ok",
      "user_expressions": {},
      "user_variables": {}
     },
     "timestamp": 1455752875510,
     "user": {
      "color": "#1FA15D",
      "displayName": "Joaquin Vanschoren",
      "isAnonymous": false,
      "isMe": true,
      "permissionId": "09574386662628411592",
      "photoUrl": "//lh6.googleusercontent.com/-9g2BD5NUkx4/AAAAAAAAAAI/AAAAAAAACC4/sACE-8zBzX4/s50-c-k-no/photo.jpg",
      "sessionId": "4868f0f035c55454",
      "userId": "109221074076178034989"
     },
     "user_tz": -60
    }
   },
   "outputs": [],
   "source": [
    "dataset = openml.download_dataset(61)\n",
    "X, y = dataset.get_dataset(target=dataset.default_target_attribute)\n",
    "clf = ensemble.RandomForestClassifier()\n",
    "clf.fit(X, y)"
   ]
  },
  {
   "cell_type": "markdown",
   "metadata": {},
   "source": [
    "You can also ask with features are categorical to do your own encoding "
   ]
  },
  {
   "cell_type": "code",
   "execution_count": null,
   "metadata": {
    "cellView": null,
    "collapsed": false,
    "executionInfo": {
     "content": {
      "execution_count": 80,
      "payload": [],
      "status": "ok",
      "user_expressions": {},
      "user_variables": {}
     },
     "timestamp": 1455753034942,
     "user": {
      "color": "#1FA15D",
      "displayName": "Joaquin Vanschoren",
      "isAnonymous": false,
      "isMe": true,
      "permissionId": "09574386662628411592",
      "photoUrl": "//lh6.googleusercontent.com/-9g2BD5NUkx4/AAAAAAAAAAI/AAAAAAAACC4/sACE-8zBzX4/s50-c-k-no/photo.jpg",
      "sessionId": "4868f0f035c55454",
      "userId": "109221074076178034989"
     },
     "user_tz": -60
    }
   },
   "outputs": [],
   "source": [
    "X, y, categorical = dataset.get_dataset(target=dataset.default_target_attribute,return_categorical_indicator=True)\n",
    "enc = preprocessing.OneHotEncoder(categorical_features=categorical)\n",
    "X = enc.fit_transform(X)\n",
    "clf.fit(X, y)"
   ]
  },
  {
   "cell_type": "markdown",
   "metadata": {},
   "source": [
    "To run benchmarks consistently (also across studies and tools), OpenML offers Tasks, which include specific train-test splits and other information."
   ]
  },
  {
   "cell_type": "code",
   "execution_count": null,
   "metadata": {
    "cellView": null,
    "collapsed": false,
    "executionInfo": {
     "content": {
      "execution_count": 2,
      "payload": [],
      "status": "ok",
      "user_expressions": {},
      "user_variables": {}
     },
     "timestamp": 1455756616694,
     "user": {
      "color": "#1FA15D",
      "displayName": "Joaquin Vanschoren",
      "isAnonymous": false,
      "isMe": true,
      "permissionId": "09574386662628411592",
      "photoUrl": "//lh6.googleusercontent.com/-9g2BD5NUkx4/AAAAAAAAAAI/AAAAAAAACC4/sACE-8zBzX4/s50-c-k-no/photo.jpg",
      "sessionId": "705fdb90ea984ffb",
      "userId": "109221074076178034989"
     },
     "user_tz": -60
    }
   },
   "outputs": [],
   "source": [
    "task_list = openml.get_task_list()\n",
    "print(task_list[0])\n",
    "\n",
    "tasks = pd.DataFrame(task_list)\n",
    "print(\"Found %s tasks on OpenML. Here are the first 10:\" % len(tasks))\n",
    "print(tasks[:10][['tid','did','task_type','NumberOfInstances','NumberOfFeatures','NumberOfClasses']])"
   ]
  },
  {
   "cell_type": "markdown",
   "metadata": {},
   "source": [
    "Download a single OpenML task (id=10), create a scikit-learn classifier (RandomForest), and run it on the task"
   ]
  },
  {
   "cell_type": "code",
   "execution_count": null,
   "metadata": {
    "cellView": null,
    "collapsed": false,
    "executionInfo": {
     "content": {
      "execution_count": 38,
      "payload": [],
      "status": "ok",
      "user_expressions": {},
      "user_variables": {}
     },
     "timestamp": 1455748839113,
     "user": {
      "color": "#1FA15D",
      "displayName": "Joaquin Vanschoren",
      "isAnonymous": false,
      "isMe": true,
      "permissionId": "09574386662628411592",
      "photoUrl": "//lh6.googleusercontent.com/-9g2BD5NUkx4/AAAAAAAAAAI/AAAAAAAACC4/sACE-8zBzX4/s50-c-k-no/photo.jpg",
      "sessionId": "4c10e6f89dcd9d83",
      "userId": "109221074076178034989"
     },
     "user_tz": -60
    }
   },
   "outputs": [],
   "source": [
    "task = openml.download_task(10)\n",
    "print(task)\n",
    "\n",
    "clf = ensemble.RandomForestClassifier()\n",
    "prediction_path, description_path = openml_run(task, clf)\n",
    "print(\"RandomForest has run on the task.\")\n",
    "print(\"The predictions are in file %s\" % prediction_path)\n",
    "print(\"The complete run description is stored in file %s\" % description_path)\n",
    "\n",
    "#import json\n",
    "#print(json.dumps(xmltodict.parse(open(os.path.abspath(description_path), \"r\").read()), indent=4))"
   ]
  },
  {
   "cell_type": "markdown",
   "metadata": {},
   "source": [
    "Upload the run to the OpenML server"
   ]
  },
  {
   "cell_type": "code",
   "execution_count": null,
   "metadata": {
    "cellView": null,
    "collapsed": false,
    "executionInfo": {
     "content": {
      "execution_count": 10,
      "payload": [],
      "status": "ok",
      "user_expressions": {},
      "user_variables": {}
     },
     "timestamp": 1455459956275,
     "user": {
      "color": "#1FA15D",
      "displayName": "Joaquin Vanschoren",
      "isAnonymous": false,
      "isMe": true,
      "permissionId": "09574386662628411592",
      "photoUrl": "//lh6.googleusercontent.com/-9g2BD5NUkx4/AAAAAAAAAAI/AAAAAAAACC4/sACE-8zBzX4/s50-c-k-no/photo.jpg",
      "sessionId": "354d267b02171dce",
      "userId": "109221074076178034989"
     },
     "user_tz": -60
    }
   },
   "outputs": [],
   "source": [
    "import xmltodict\n",
    "from IPython.core.display import display, HTML\n",
    "\n",
    "prediction_abspath = os.path.abspath(prediction_path)\n",
    "description_abspath = os.path.abspath(description_path)\n",
    "\n",
    "return_code, response = openml.upload_run(prediction_abspath, description_abspath)\n",
    "\n",
    "if(return_code == 200):\n",
    "    response_dict = xmltodict.parse(response.content)\n",
    "    run_id = response_dict['oml:upload_run']['oml:run_id']\n",
    "    print(\"Uploaded run with id %s\" % (run_id))\n",
    "    display(HTML(\"<a href='http://www.openml.org/r/{0}'>http://www.openml.org/r/{0}</a>\".format(run_id)))\n"
   ]
  }
 ],
 "metadata": {
  "colabVersion": "0.1",
  "kernelspec": {
   "display_name": "Python 3",
   "language": "python",
   "name": "python3"
  },
  "language_info": {
   "codemirror_mode": {
    "name": "ipython",
    "version": 3
   },
   "file_extension": ".py",
   "mimetype": "text/x-python",
   "name": "python",
   "nbconvert_exporter": "python",
   "pygments_lexer": "ipython3",
   "version": "3.5.1"
  }
 },
 "nbformat": 4,
 "nbformat_minor": 0
}
