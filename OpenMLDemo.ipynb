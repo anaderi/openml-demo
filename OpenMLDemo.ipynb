{
  "worksheets": [
    {
      "cells": [
        {
          "cell_type": "markdown",
          "source": "Small demo of the OpenML API. It covers downloading datasets, tasks, how to use scikit-learn to build classifiers, and upload the results to the server.\n"
        },
        {
          "cell_type": "markdown",
          "source": "Initialization and login. This assumes you have a .openml dir in your homedir with a subdir for caches and a file with your API key. You find your API key in your account settings on openml.org."
        },
        {
          "cell_type": "code",
          "input": "from sklearn import preprocessing, ensemble\nfrom openml.apiconnector import APIConnector\nfrom openml.autorun import openml_run\nimport numpy as np\nimport pandas as pd\nimport os\n\nhome_dir = os.path.expanduser(\"~\")\nopenml_dir = os.path.join(home_dir, \".openml\")\ncache_dir = os.path.join(openml_dir, \"cache\")\nwith open(os.path.join(openml_dir, \"apikey.txt\"), 'r') as fh:\n\tkey = fh.readline().rstrip('\\n')\n\nopenml = APIConnector(cache_directory=cache_dir, apikey=key)",
          "outputs": [],
          "language": "python",
          "metadata": {
            "cellView": null,
            "executionInfo": {
              "content": {
                "status": "ok",
                "execution_count": 1,
                "payload": [],
                "user_expressions": {},
                "user_variables": {}
              },
              "timestamp": 1455756578370,
              "user_tz": -60,
              "user": {
                "sessionId": "705fdb90ea984ffb",
                "userId": "109221074076178034989",
                "permissionId": "09574386662628411592",
                "displayName": "Joaquin Vanschoren",
                "color": "#1FA15D",
                "isMe": true,
                "isAnonymous": false,
                "photoUrl": "//lh6.googleusercontent.com/-9g2BD5NUkx4/AAAAAAAAAAI/AAAAAAAACC4/sACE-8zBzX4/s50-c-k-no/photo.jpg"
              }
            }
          }
        },
        {
          "cell_type": "markdown",
          "source": "List all datasets on OpenML"
        },
        {
          "cell_type": "code",
          "input": "datasets = openml.get_dataset_list()\n\ndata = pd.DataFrame(datasets)\nprint(\"Found %s datasets on OpenML. Here are the first 10:\" % len(datasets))\nprint(data[:10][['did','NumberOfInstances','NumberOfFeatures','NumberOfClasses']])\n\ncl_data = data.loc[data['NumberOfClasses'] >= 2]\nprint(\"Selected %s classification datasets. Here are the first 10:\" % len(cl_data))\nprint(cl_data[:10][['did','NumberOfInstances','NumberOfFeatures','NumberOfClasses']])",
          "outputs": [
            {
              "output_type": "stream",
              "text": "Found 2407 datasets on OpenML. Here are the first 10:\n   did  NumberOfInstances  NumberOfFeatures  NumberOfClasses\n0    1                898                39                6\n1    2                898                39                6\n2    3               3196                37                2\n3    4                 57                17                2\n4    5                452               280               16\n5    6              20000                17               26\n6    7                226                70               24\n7    8                345                 7              NaN\n8    9                205                26                7\n9   10                148                19                4\nSelected 921 classification datasets. Here are the first 10:\n    did  NumberOfInstances  NumberOfFeatures  NumberOfClasses\n0     1                898                39                6\n1     2                898                39                6\n2     3               3196                37                2\n3     4                 57                17                2\n4     5                452               280               16\n5     6              20000                17               26\n6     7                226                70               24\n8     9                205                26                7\n9    10                148                19                4\n10   11                625                 5                3\n",
              "stream": "stdout"
            }
          ],
          "language": "python",
          "metadata": {
            "cellView": null,
            "executionInfo": {
              "content": {
                "status": "ok",
                "execution_count": 43,
                "payload": [],
                "user_expressions": {},
                "user_variables": {}
              },
              "timestamp": 1455749142183,
              "user_tz": -60,
              "user": {
                "sessionId": "4c10e6f89dcd9d83",
                "userId": "109221074076178034989",
                "permissionId": "09574386662628411592",
                "displayName": "Joaquin Vanschoren",
                "color": "#1FA15D",
                "isMe": true,
                "isAnonymous": false,
                "photoUrl": "//lh6.googleusercontent.com/-9g2BD5NUkx4/AAAAAAAAAAI/AAAAAAAACC4/sACE-8zBzX4/s50-c-k-no/photo.jpg"
              }
            }
          }
        },
        {
          "cell_type": "markdown",
          "source": "Download a specific dataset. This is done based on the dataset ID (called 'did' in the table above)."
        },
        {
          "cell_type": "code",
          "input": "from pprint import pprint\nimport arff\n\nprint(\"Downloading dataset 61.\")\ndataset = openml.download_dataset(61)\n\nprint(\"This is dataset '%s', the target feature is called '%s'\" % (dataset.name, dataset.default_target_attribute))\nprint(\"More info, including the location off the .arff file on disk:\")\npprint(vars(dataset))\n\nprint(\"Peeking at the actual data (class labels are replaced by indices):\")\nX, y, attribute_names = dataset.get_dataset(target=dataset.default_target_attribute, return_attribute_names=True)\niris = pd.DataFrame(X, columns=attribute_names)\niris['class'] = y\nprint(iris[:10])",
          "outputs": [
            {
              "output_type": "stream",
              "text": "Downloading dataset 61.\nThis is dataset 'iris', the target feature is called 'class'\nMore info, including the location off the .arff file on disk:\n{'citation': None,\n 'collection_date': u'1936',\n 'contributor': None,\n 'creator': u'R.A. Fisher',\n 'data_file': '/Users/joa/.openml/cache/datasets/61/dataset.arff',\n 'data_pickle_file': '/Users/joa/.openml/cache/datasets/61/dataset.pkl',\n 'default_target_attribute': u'class',\n 'description': u\"**Author**: R.A. Fisher  \\n**Source**: [UCI](https://archive.ics.uci.edu/ml/datasets/Iris) - 1936 - Donated by Michael Marshall  \\n**Please cite**:   \\n\\n**Iris Plants Database**  \\nThis is perhaps the best known database to be found in the pattern recognition literature.  Fisher's paper is a classic in the field and is referenced frequently to this day.  (See Duda & Hart, for example.)  The data set contains 3 classes of 50 instances each, where each class refers to a type of iris plant.  One class is     linearly separable from the other 2; the latter are NOT linearly separable from each other.\\n\\nPredicted attribute: class of iris plant.  \\nThis is an exceedingly simple domain.  \\n \\n### Attribute Information:\\n    1. sepal length in cm\\n    2. sepal width in cm\\n    3. petal length in cm\\n    4. petal width in cm\\n    5. class: \\n       -- Iris Setosa\\n       -- Iris Versicolour\\n       -- Iris Virginica\",\n 'format': u'ARFF',\n 'id': 61,\n 'ignore_attributes': None,\n 'language': None,\n 'licence': u'Public',\n 'md5_cheksum': u'3a212cce13fc6f9b94f4793285813d95',\n 'name': u'iris',\n 'original_data_url': u'https://archive.ics.uci.edu/ml/datasets/Iris',\n 'paper_url': u'http://digital.library.adelaide.edu.au/dspace/handle/2440/15227',\n 'row_id_attribute': None,\n 'tag': [u'study_1', u'study_4', u'uci'],\n 'update_comment': None,\n 'upload_date': u'2014-04-06 23:23:39',\n 'url': u'http://www.openml.org/data/download/61/dataset_61_iris.arff',\n 'version': 1,\n 'version_label': u'1',\n 'visibility': u'public'}\nPeeking at the actual data (class labels are replaced by indices):\n   sepallength  sepalwidth  petallength  petalwidth  class\n0          5.1         3.5          1.4         0.2      0\n1          4.9         3.0          1.4         0.2      0\n2          4.7         3.2          1.3         0.2      0\n3          4.6         3.1          1.5         0.2      0\n4          5.0         3.6          1.4         0.2      0\n5          5.4         3.9          1.7         0.4      0\n6          4.6         3.4          1.4         0.3      0\n7          5.0         3.4          1.5         0.2      0\n8          4.4         2.9          1.4         0.2      0\n9          4.9         3.1          1.5         0.1      0\n",
              "stream": "stdout"
            }
          ],
          "language": "python",
          "metadata": {
            "cellView": null,
            "executionInfo": {
              "content": {
                "status": "ok",
                "execution_count": 83,
                "payload": [],
                "user_expressions": {},
                "user_variables": {}
              },
              "timestamp": 1455753527460,
              "user_tz": -60,
              "user": {
                "sessionId": "4868f0f035c55454",
                "userId": "109221074076178034989",
                "permissionId": "09574386662628411592",
                "displayName": "Joaquin Vanschoren",
                "color": "#1FA15D",
                "isMe": true,
                "isAnonymous": false,
                "photoUrl": "//lh6.googleusercontent.com/-9g2BD5NUkx4/AAAAAAAAAAI/AAAAAAAACC4/sACE-8zBzX4/s50-c-k-no/photo.jpg"
              }
            }
          }
        },
        {
          "cell_type": "markdown",
          "source": "Training a scikit-learn model with the data"
        },
        {
          "cell_type": "code",
          "input": "dataset = openml.download_dataset(61)\nX, y = dataset.get_dataset(target=dataset.default_target_attribute)\nclf = ensemble.RandomForestClassifier()\nclf.fit(X, y)",
          "outputs": [
            {
              "text/plain": "RandomForestClassifier(bootstrap=True, class_weight=None, criterion='gini',\n            max_depth=None, max_features='auto', max_leaf_nodes=None,\n            min_samples_leaf=1, min_samples_split=2,\n            min_weight_fraction_leaf=0.0, n_estimators=10, n_jobs=1,\n            oob_score=False, random_state=None, verbose=0,\n            warm_start=False)",
              "prompt_number": 78,
              "output_type": "pyout",
              "metadata": {}
            }
          ],
          "language": "python",
          "metadata": {
            "cellView": null,
            "executionInfo": {
              "content": {
                "status": "ok",
                "execution_count": 78,
                "payload": [],
                "user_expressions": {},
                "user_variables": {}
              },
              "timestamp": 1455752875510,
              "user_tz": -60,
              "user": {
                "sessionId": "4868f0f035c55454",
                "userId": "109221074076178034989",
                "permissionId": "09574386662628411592",
                "displayName": "Joaquin Vanschoren",
                "color": "#1FA15D",
                "isMe": true,
                "isAnonymous": false,
                "photoUrl": "//lh6.googleusercontent.com/-9g2BD5NUkx4/AAAAAAAAAAI/AAAAAAAACC4/sACE-8zBzX4/s50-c-k-no/photo.jpg"
              }
            }
          }
        },
        {
          "cell_type": "markdown",
          "source": "You can also ask with features are categorical to do your own encoding "
        },
        {
          "cell_type": "code",
          "input": "X, y, categorical = dataset.get_dataset(target=dataset.default_target_attribute,return_categorical_indicator=True)\nenc = preprocessing.OneHotEncoder(categorical_features=categorical)\nX = enc.fit_transform(X)\nclf.fit(X, y)",
          "outputs": [
            {
              "text/plain": "RandomForestClassifier(bootstrap=True, class_weight=None, criterion='gini',\n            max_depth=None, max_features='auto', max_leaf_nodes=None,\n            min_samples_leaf=1, min_samples_split=2,\n            min_weight_fraction_leaf=0.0, n_estimators=10, n_jobs=1,\n            oob_score=False, random_state=None, verbose=0,\n            warm_start=False)",
              "prompt_number": 80,
              "output_type": "pyout",
              "metadata": {}
            }
          ],
          "language": "python",
          "metadata": {
            "cellView": null,
            "executionInfo": {
              "content": {
                "status": "ok",
                "execution_count": 80,
                "payload": [],
                "user_expressions": {},
                "user_variables": {}
              },
              "timestamp": 1455753034942,
              "user_tz": -60,
              "user": {
                "sessionId": "4868f0f035c55454",
                "userId": "109221074076178034989",
                "permissionId": "09574386662628411592",
                "displayName": "Joaquin Vanschoren",
                "color": "#1FA15D",
                "isMe": true,
                "isAnonymous": false,
                "photoUrl": "//lh6.googleusercontent.com/-9g2BD5NUkx4/AAAAAAAAAAI/AAAAAAAACC4/sACE-8zBzX4/s50-c-k-no/photo.jpg"
              }
            }
          }
        },
        {
          "cell_type": "markdown",
          "source": "To run benchmarks consistently (also across studies and tools), OpenML offers Tasks, which include specific train-test splits and other information."
        },
        {
          "cell_type": "code",
          "input": "task_list = openml.get_task_list()\nprint(task_list[0])\n\ntasks = pd.DataFrame(task_list)\nprint(\"Found %s tasks on OpenML. Here are the first 10:\" % len(tasks))\nprint(tasks[:10][['tid','did','task_type','NumberOfInstances','NumberOfFeatures','NumberOfClasses']])",
          "outputs": [
            {
              "output_type": "stream",
              "text": "{'status': u'active', 'task_type': u'Supervised Classification', u'NumberOfInstancesWithMissingValues': 0, 'did': 1, u'NumberOfSymbolicFeatures': 32, u'NumBinaryAtts': 14, u'NumberOfMissingValues': 0, u'MajorityClassSize': 684, u'NumberOfInstances': 898, u'NumberOfFeatures': 39, u'MaxNominalAttDistinctValues': 10, u'NumberOfClasses': 6, 'tid': 1, u'MinorityClassSize': 0, u'NumberOfNumericFeatures': 6}\nFound 1895 tasks on OpenML. Here are the first 10:\n   tid  did                  task_type  NumberOfInstances  NumberOfFeatures  \\\n0    1    1  Supervised Classification                898                39   \n1    2    2  Supervised Classification                898                39   \n2    3    3  Supervised Classification               3196                37   \n3    4    4  Supervised Classification                 57                17   \n4    5    5  Supervised Classification                452               280   \n5    6    6  Supervised Classification              20000                17   \n6    7    7  Supervised Classification                226                70   \n7    8    8  Supervised Classification                345                 7   \n8    9    9  Supervised Classification                205                26   \n9   10   10  Supervised Classification                148                19   \n\n   NumberOfClasses  \n0                6  \n1                6  \n2                2  \n3                2  \n4               16  \n5               26  \n6               24  \n7              NaN  \n8                7  \n9                4  \n",
              "stream": "stdout"
            }
          ],
          "language": "python",
          "metadata": {
            "cellView": null,
            "executionInfo": {
              "content": {
                "status": "ok",
                "execution_count": 2,
                "payload": [],
                "user_expressions": {},
                "user_variables": {}
              },
              "timestamp": 1455756616694,
              "user_tz": -60,
              "user": {
                "sessionId": "705fdb90ea984ffb",
                "userId": "109221074076178034989",
                "permissionId": "09574386662628411592",
                "displayName": "Joaquin Vanschoren",
                "color": "#1FA15D",
                "isMe": true,
                "isAnonymous": false,
                "photoUrl": "//lh6.googleusercontent.com/-9g2BD5NUkx4/AAAAAAAAAAI/AAAAAAAACC4/sACE-8zBzX4/s50-c-k-no/photo.jpg"
              }
            }
          }
        },
        {
          "cell_type": "markdown",
          "source": "Download a single OpenML task (id=10), create a scikit-learn classifier (RandomForest), and run it on the task"
        },
        {
          "cell_type": "code",
          "input": "task = openml.download_task(10)\nprint task\n\nclf = ensemble.RandomForestClassifier()\nprediction_path, description_path = openml_run(task, clf)\nprint(\"RandomForest has run on the task.\")\nprint(\"The predictions are in file %s\" % prediction_path)\nprint(\"The complete run description is stored in file %s\" % description_path)\n\n#import json\n#print(json.dumps(xmltodict.parse(open(os.path.abspath(description_path), \"r\").read()), indent=4))",
          "outputs": [
            {
              "output_type": "stream",
              "text": "OpenMLTask instance.\nTask ID: 10\nTask type: Supervised Classification\nDataset id: 10\n2638\nRandomForest has run on the task.\nThe predictions are in file t10_RandomForestClassifier.arff\nThe complete run description is stored in file t10_RandomForestClassifier.xml\n",
              "stream": "stdout"
            }
          ],
          "language": "python",
          "metadata": {
            "cellView": null,
            "executionInfo": {
              "content": {
                "status": "ok",
                "execution_count": 38,
                "payload": [],
                "user_expressions": {},
                "user_variables": {}
              },
              "timestamp": 1455748839113,
              "user_tz": -60,
              "user": {
                "sessionId": "4c10e6f89dcd9d83",
                "userId": "109221074076178034989",
                "permissionId": "09574386662628411592",
                "displayName": "Joaquin Vanschoren",
                "color": "#1FA15D",
                "isMe": true,
                "isAnonymous": false,
                "photoUrl": "//lh6.googleusercontent.com/-9g2BD5NUkx4/AAAAAAAAAAI/AAAAAAAACC4/sACE-8zBzX4/s50-c-k-no/photo.jpg"
              }
            }
          }
        },
        {
          "cell_type": "markdown",
          "source": "Upload the run to the OpenML server"
        },
        {
          "cell_type": "code",
          "input": "import xmltodict\n\nprediction_abspath = os.path.abspath(prediction_path)\ndescription_abspath = os.path.abspath(description_path)\n\nreturn_code, response = openml.upload_run(prediction_abspath, description_abspath)\n\nif(return_code == 200):\n\tresponse_dict = xmltodict.parse(response.content)\n\trun_id = response_dict['oml:upload_run']['oml:run_id']\n\tprint(\"Uploaded run with id %s\" % (run_id))\n\tprint(\"Check it at www.openml.org/r/%s\" % (run_id))\n",
          "outputs": [
            {
              "output_type": "stream",
              "text": "Uploaded run with id 524054\nCheck it at www.openml.org/r/524054\n",
              "stream": "stdout"
            }
          ],
          "language": "python",
          "metadata": {
            "cellView": null,
            "executionInfo": {
              "content": {
                "status": "ok",
                "execution_count": 10,
                "payload": [],
                "user_expressions": {},
                "user_variables": {}
              },
              "timestamp": 1455459956275,
              "user_tz": -60,
              "user": {
                "sessionId": "354d267b02171dce",
                "userId": "109221074076178034989",
                "permissionId": "09574386662628411592",
                "displayName": "Joaquin Vanschoren",
                "color": "#1FA15D",
                "isMe": true,
                "isAnonymous": false,
                "photoUrl": "//lh6.googleusercontent.com/-9g2BD5NUkx4/AAAAAAAAAAI/AAAAAAAACC4/sACE-8zBzX4/s50-c-k-no/photo.jpg"
              }
            }
          }
        }
      ]
    }
  ],
  "metadata": {
    "name": "OpenMLDemo.ipynb",
    "colabVersion": "0.1"
  },
  "nbformat": 3,
  "nbformat_minor": 0
}